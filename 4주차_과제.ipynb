{
  "nbformat": 4,
  "nbformat_minor": 0,
  "metadata": {
    "colab": {
      "name": "4주차 과제.ipynb의 사본",
      "provenance": [],
      "collapsed_sections": [],
      "include_colab_link": true
    },
    "kernelspec": {
      "name": "python3",
      "display_name": "Python 3"
    }
  },
  "cells": [
    {
      "cell_type": "markdown",
      "metadata": {
        "id": "view-in-github",
        "colab_type": "text"
      },
      "source": [
        "<a href=\"https://colab.research.google.com/github/AnamKwon/Gwangju-Ai-center-Free-course_anam/blob/master/4%EC%A3%BC%EC%B0%A8_%EA%B3%BC%EC%A0%9C.ipynb\" target=\"_parent\"><img src=\"https://colab.research.google.com/assets/colab-badge.svg\" alt=\"Open In Colab\"/></a>"
      ]
    },
    {
      "cell_type": "markdown",
      "metadata": {
        "id": "wxkL6PjwsI6L",
        "colab_type": "text"
      },
      "source": [
        "# 4주차 과제\n",
        "- 용어 정리\n",
        "- 딥러닝 강의 클론 코딩\n",
        "- 딥러닝 순전파 & 역전파 계산"
      ]
    },
    {
      "cell_type": "markdown",
      "metadata": {
        "id": "ixEtDe6_uGgI",
        "colab_type": "text"
      },
      "source": [
        "## 1. 용어 정리\n",
        "\n",
        "다음 제시된 단어의 정의(설명)를 정리하여 작성 하세요.\n",
        "\n",
        "* 2문장 이상 작성 해 주세요. \n",
        "* 주제(단어)와 크게 벗어나지만 않는다면 정답처리 됩니다.\n",
        "* 강의 뿐 아니라 기타 레퍼런스를 참고하여 작성하셔도 됩니다. (기타 레퍼런스를 참고하신 경우, 해당 레퍼런스를 정리하여 하단에 작성해 주세요.)\n"
      ]
    },
    {
      "cell_type": "markdown",
      "metadata": {
        "id": "0lfwat8eurKZ",
        "colab_type": "text"
      },
      "source": [
        "__(예시)__\n",
        "### 심층 신경망\n",
        ": 입력층과 출력층 사이에 여러 개의 은닉층들로 이뤄진 인공신경망이다. 심층 신경망은 일반적으로 인공신경망과 마찬가지로 복잡한 비선형 관계들을 모델링 할 수 있다. 신층신경망의 목적은 분류 및 수치예측을 하기 위함이고 이미지 트레이닝이나 문자인식과 같은 분야에서 매우 유용하게 쓰이고 있다."
      ]
    },
    {
      "cell_type": "markdown",
      "metadata": {
        "id": "Y8YJNKG_v65A",
        "colab_type": "text"
      },
      "source": [
        "### MCP 뉴런\n",
        ": McCulloch-Pitts 의 약자로 간소화된 뇌의 뉴런 개념이다. 뉴런은 화학적, 전기적 신호를 처리하고 전달하는데 이러한 신경세포를 이진출력으로 내는 간단한 논리 회로로 표현했다.\n",
        "\n",
        "### 퍼셉트론\n",
        ": 자동으로 최적의 가중치를 학습하는 알고리즘으로써 다수의 입력을 받아 가중치를 곱하여 활성화함수를 통해 나온 출력 값과 기대 출력 값을 비교하여 오차를 줄일 수 있는 최적의 가중치를 구한다.\n",
        "\n",
        "### 역전파\n",
        ": 기대 출력 값에 맞춰 역으로 가중치를 조절하는 방식으로 만약 입력 -> 은닉층 -> 출력으로 값이 나왔다면 역으로 출력 -> 은닉층 -> 입력의 가중치를 기대 출력 값에 맞게 조절한다.\n",
        "\n",
        "### 강화학습\n",
        ": 에이전트가 다수의 시행착오를 통해 보상을 최대화 하는 것으로 이러한 보상을 명확해야 되는 부분이 있어 지도학습, 비지도학습과의 차이이다. 하지만 이러한 행동에 있어 두가지 행동으로 나눠 지는게 탐험과 활용으로써 다양한 탐험은 보상을 최대화할 수 있지만, 많은 시간이 소요될 수 있고, 학습된 활용만 이용할 경우 최대한 보상을 얻지 못할 수 있어 적절한 분배가 필요하다.\n",
        "\n",
        "### 과적합\n",
        ": 결정 트리 학습에서 리프 노드가 순수해질 때 까지 분할 작업을 진행하는데, 깊은 트리가 만들어 지는 것을 의미한다. 이러한 것을 방지하기 위해 최대 깊이를 제한하는 것을 트리 가지치기라 한다.\n",
        "\n",
        "### 차원의 저주\n",
        ": 많은 데이터는 많은 차원을 만들어 낼 수 있지만, 이러한 차원이 더 많아 질수록 성능이 떨어지는 현상을 말한다. 차원이 많아 질수록 그에 맞는 더 많은 데이터가 필요하다."
      ]
    },
    {
      "cell_type": "markdown",
      "metadata": {
        "id": "d-zfFXLCy6jD",
        "colab_type": "text"
      },
      "source": [
        "## 2. 딥러닝 강의 클론 코딩\n",
        "\n",
        "####__퍼셉트론 구조 구현하기__ \n",
        "딥러닝 강의(__딥러닝 원리[1] 3:15 ~ 5:15 부분__)를 보고 코드를 따라 치며 출력 결과를 만드세요.\n",
        " \n",
        "\n",
        "* 하나의 코드셀에 해당 코드를 한번에 다 적어서 실행해주세요 (__그렇게 하지 않을 경우, 아래 이미지와 같은 출력값이 나오지 않을 수 있습니다__)\n",
        "\n",
        "*__주의!__ 실제로 코딩해서 출력해보면 강의에 나온 출력 결과와 다르게 나옵니다!!\n"
      ]
    },
    {
      "cell_type": "code",
      "metadata": {
        "id": "Xq4ODVCkjWr0",
        "colab_type": "code",
        "outputId": "fc94399f-3084-484b-fc27-37b24cac7836",
        "colab": {
          "base_uri": "https://localhost:8080/",
          "height": 215
        }
      },
      "source": [
        "import tensorflow as tf\n",
        "tf.compat.v1.set_random_seed(2020)\n",
        "x = 1\n",
        "y = 0\n",
        "w = tf.random.normal([1],0,1)\n",
        "import math\n",
        "def sigmoid(x) : \n",
        "  return 1/(1+math.exp(-x))\n",
        "\n",
        "output = sigmoid(x * w)\n",
        "print(output)\n",
        "\n",
        "for i in range(1000) : \n",
        "  output = sigmoid(x * w)\n",
        "  error = y - output\n",
        "  w = w + x * 0.1 * error\n",
        "  if i % 100 == 99 :\n",
        "    print('학습 횟수 : ',i, \"Error : \", error, \"예측 결과 : \", output)"
      ],
      "execution_count": 0,
      "outputs": [
        {
          "output_type": "stream",
          "text": [
            "0.47477188589261\n",
            "학습 횟수 :  99 Error :  -0.10010598284299604 예측 결과 :  0.10010598284299604\n",
            "학습 횟수 :  199 Error :  -0.05178399422833116 예측 결과 :  0.05178399422833116\n",
            "학습 횟수 :  299 Error :  -0.034590451977903586 예측 결과 :  0.034590451977903586\n",
            "학습 횟수 :  399 Error :  -0.02588962752851373 예측 결과 :  0.02588962752851373\n",
            "학습 횟수 :  499 Error :  -0.020658699939863617 예측 결과 :  0.020658699939863617\n",
            "학습 횟수 :  599 Error :  -0.017174253993457355 예측 결과 :  0.017174253993457355\n",
            "학습 횟수 :  699 Error :  -0.014689506449480992 예측 결과 :  0.014689506449480992\n",
            "학습 횟수 :  799 Error :  -0.012829497265431342 예측 결과 :  0.012829497265431342\n",
            "학습 횟수 :  899 Error :  -0.011385568271837804 예측 결과 :  0.011385568271837804\n",
            "학습 횟수 :  999 Error :  -0.010232493309882492 예측 결과 :  0.010232493309882492\n"
          ],
          "name": "stdout"
        }
      ]
    },
    {
      "cell_type": "markdown",
      "metadata": {
        "id": "wcc5mzI9oZ7r",
        "colab_type": "text"
      },
      "source": [
        "![대체 텍스트](https://www.notion.so/image/https%3A%2F%2Fs3-us-west-2.amazonaws.com%2Fsecure.notion-static.com%2F0cceeed0-0235-4b0f-af88-0b8c377d5b4b%2F_2020-06-09__9.35.23.png?table=block&id=88fd8912-9356-49a4-9fda-a1a63fe96ea9&width=2870&cache=v2)"
      ]
    },
    {
      "cell_type": "markdown",
      "metadata": {
        "id": "kr0HVRk8fOom",
        "colab_type": "text"
      },
      "source": [
        "## 3. 딥러닝 순전파 & 역전파 계산\n",
        "\n",
        "딥러닝 강의(__딥러닝 원리[2] 0:55 ~ 4:32 부분__)에 나오는 순전파 & 역전파 계산에 대한 문제 입니다.\n",
        "\n",
        "해당 영상과 다음 이미지를 참고하여 다음 2가지 물음에 답하세요.\n",
        "\n",
        "\n",
        "(1) 학습률이 0.2 일 경우 출력층의 노드값\n",
        "\n",
        "(2) 학습률이 0.1과 0.2 중 기대출력값이 지도데이터 \"3\"과 더 가까운 학습률은?"
      ]
    },
    {
      "cell_type": "markdown",
      "metadata": {
        "id": "CpwPFWhOUzww",
        "colab_type": "text"
      },
      "source": [
        "![대체 텍스트](https://www.notion.so/image/https%3A%2F%2Fs3-us-west-2.amazonaws.com%2Fsecure.notion-static.com%2Ff54dfd45-92ec-44ae-9616-6949d2484a45%2F_2020-06-10__5.22.03.png?table=block&id=ee05da89-3ceb-4ad9-a2d3-c9f68d24d1d9&width=3580&cache=v2)"
      ]
    },
    {
      "cell_type": "markdown",
      "metadata": {
        "id": "B2OVY7w5U3CI",
        "colab_type": "text"
      },
      "source": [
        "## (1) 학습률이 0.2 일 경우 출력층의 노드값 : 1.68\n",
        "## (2) 학습률이 0.1과 0.2 중 기대출력값이 지도데이터 \"3\"과 더 가까운 학습률은? : 0.1"
      ]
    },
    {
      "cell_type": "code",
      "metadata": {
        "id": "BgavfvqiWxBU",
        "colab_type": "code",
        "colab": {
          "base_uri": "https://localhost:8080/",
          "height": 53
        },
        "outputId": "4bb119b7-8850-45b0-b291-4c9a7baabd50"
      },
      "source": [
        "x = 2 # 입력층\n",
        "a = 1 # 입력층 편향\n",
        "y = 3 # 은닉층\n",
        "b = 1 # 은닉층 편향\n",
        "v1 = 1 # 입력층 가중치\n",
        "v2 = 1 # 입력층 편향 가중치\n",
        "w1 = 1 # 은닉층 가중치\n",
        "w2 = 1 # 은닉층 편향 가중치\n",
        "t = 3 # 기대 출력값\n",
        "z = 4 # 예상 출력값\n",
        "n_list = [0.1, 0.2] # 학습률\n",
        "result = []\n",
        "for n in n_list :\n",
        "  error_y = z-t # 은닉층의 가중치로 인한 오차\n",
        "  w1_1 = w1 - y * n * error_y # 은닉층 가중치 조정 을 위한 경사하강법\n",
        "  w2_1 = w2 - 1 * n * error_y # 은닉층 편향 가중치 조정을 위한 경사하강법\n",
        "  y_1 = y - (w1 - w1_1) - (w2 - w2_1) # 은닉층에 전파할 오차 값\n",
        "  error_x = y - y_1 # 조정된 은닉층 값과의 오차\n",
        "  v1_1 = v1 - x * n * error_x # 입력층 가중치 조정을 위한 경사하강법\n",
        "  v2_1 = v2 - 1 * n * error_x # 입력층 편향 가중치 조정을 위한 경사하강법\n",
        "  y_result = x * v1_1 + a * v2_1 # 입력층의 가중치를 조정한 은닉층의 값\n",
        "  z_result = y_result * w1_1 + b * w2_1 # 조정된 예상 출력 값\n",
        "  result.append([n, z_result])\n",
        "print(\"(1) 학습률이 0.2 일 경우 출력층의 노드값 : \"+str(result[1][1]))\n",
        "if abs(y-result[0][1]) < abs(y-result[1][1]):\n",
        "  print('(2) 학습률이 0.1과 0.2 중 기대출력값이 지도데이터 \"3\"과 더 가까운 학습률은? : ' + str(result[0][0]))\n",
        "else :\n",
        "  print('(2) 학습률이 0.1과 0.2 중 기대출력값이 지도데이터 \"3\"과 더 가까운 학습률은? : ' + str(result[1][0]))"
      ],
      "execution_count": 19,
      "outputs": [
        {
          "output_type": "stream",
          "text": [
            "(1) 학습률이 0.2 일 경우 출력층의 노드값 : 1.68\n",
            "(2) 학습률이 0.1과 0.2 중 기대출력값이 지도데이터 \"3\"과 더 가까운 학습률은? : 0.1\n"
          ],
          "name": "stdout"
        }
      ]
    },
    {
      "cell_type": "code",
      "metadata": {
        "id": "SHm-DAsaJupQ",
        "colab_type": "code",
        "colab": {}
      },
      "source": [
        ""
      ],
      "execution_count": 0,
      "outputs": []
    }
  ]
}
