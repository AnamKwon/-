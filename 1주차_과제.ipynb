{
  "nbformat": 4,
  "nbformat_minor": 0,
  "metadata": {
    "colab": {
      "name": "1주차_과제.ipynb",
      "provenance": [],
      "authorship_tag": "ABX9TyPolHW/34AE6DL6FpCm6JzL",
      "include_colab_link": true
    },
    "kernelspec": {
      "name": "python3",
      "display_name": "Python 3"
    }
  },
  "cells": [
    {
      "cell_type": "markdown",
      "metadata": {
        "id": "view-in-github",
        "colab_type": "text"
      },
      "source": [
        "<a href=\"https://colab.research.google.com/github/AnamKwon/Gwangju-Ai-center-Free-course_anam/blob/master/1%EC%A3%BC%EC%B0%A8_%EA%B3%BC%EC%A0%9C.ipynb\" target=\"_parent\"><img src=\"https://colab.research.google.com/assets/colab-badge.svg\" alt=\"Open In Colab\"/></a>"
      ]
    },
    {
      "cell_type": "code",
      "metadata": {
        "id": "b-CxOJgTkFyN",
        "colab_type": "code",
        "colab": {}
      },
      "source": [
        ""
      ],
      "execution_count": 0,
      "outputs": []
    },
    {
      "cell_type": "markdown",
      "metadata": {
        "id": "U1-n-NjgkGwI",
        "colab_type": "text"
      },
      "source": [
        "## 1주차 과제\n",
        "* 언어\n",
        "\n",
        " * [구글언어번역기](https://translate.google.com/)\n",
        " ![대체 텍스트](https://github.com/AnamKwon/Gwangju-Ai-center-Free-course_anam/blob/master/%EA%B5%AC%EA%B8%80%EC%96%B8%EC%96%B4%EB%B2%88%EC%97%AD%EA%B8%B0_1%EC%A3%BC%EC%B0%A8.PNG?raw=true)\n",
        "\n",
        "* 음성\n",
        "\n",
        " * [구글검색](http://google.co.kr)![대체 텍스트](https://github.com/AnamKwon/Gwangju-Ai-center-Free-course_anam/blob/master/%EA%B5%AC%EA%B8%80%EA%B2%80%EC%83%89_1%EC%A3%BC%EC%B0%A8.PNG?raw=true)\n",
        "\n",
        "* 이미지\n",
        "\n",
        " * [구글이미지검색](https://www.google.co.kr/imghp?hl=ko)\n",
        " ![대체 텍스트](https://github.com/AnamKwon/Gwangju-Ai-center-Free-course_anam/blob/master/%EA%B5%AC%EA%B8%80%EC%9D%B4%EB%AF%B8%EC%A7%80%EA%B2%80%EC%83%89_1%EC%A3%BC%EC%B0%A8.PNG?raw=true)\n",
        "\n",
        "* 자율주행\n",
        " \n",
        " * [현대자동차](https://www.hyundai.co.kr/TechInnovation/Autonomous/Cdp.hub)\n",
        " ![대체 텍스트](https://github.com/AnamKwon/Gwangju-Ai-center-Free-course_anam/blob/master/%ED%98%84%EB%8C%80%EC%9E%90%EB%8F%99%EC%B0%A8_1%EC%A3%BC%EC%B0%A8.PNG?raw=true)"
      ]
    }
  ]
}
